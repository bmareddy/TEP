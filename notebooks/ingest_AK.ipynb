{
 "cells": [
  {
   "cell_type": "code",
   "execution_count": 73,
   "metadata": {},
   "outputs": [],
   "source": [
    "import pandas as pd\n",
    "import numpy as np\n",
    "import matplotlib.pyplot as plt"
   ]
  },
  {
   "cell_type": "code",
   "execution_count": 100,
   "metadata": {},
   "outputs": [],
   "source": [
    "def get_file_name(state, year) :\n",
    "    \"\"\" returns the filename that contains election results corresponding to a given year and state\"\"\"\n",
    "    \n",
    "    global_data_path = \"C:\\\\Users\\\\madhu\\\\Documents\\\\git\\\\TEP\\\\data\\\\\"\n",
    "    state_year_data_path = global_data_path + str(year) + \"\\\\\" + state + \"\\\\\"\n",
    "    if state == \"AK\" and year >= 2014 :\n",
    "        return state_year_data_path + \"results.txt\"\n",
    "    elif state == \"AK\" and year < 2014 :\n",
    "        return state_year_data_path + \"results.html\"\n",
    "    else :\n",
    "        raise ValueError(\"State \" + state + \" is not yet supported\")\n",
    "\n",
    "def get_total_registered_voters(state, year) :\n",
    "    \"\"\" returns total registered voters corresponding to a given year and state. \n",
    "    Must have held either a federal or a state-wide race \"\"\"\n",
    "    \n",
    "    file = get_file_name(state, year)\n",
    "    total_registered_voters = 0\n",
    "    \n",
    "    if file.endswith(\".txt\") :\n",
    "        raw_data = pd.read_csv(file, header = None, encoding = \"latin1\")\n",
    "        total_registered_voters = raw_data.loc[raw_data[0].apply(lambda x: x.strip()) == \"US REPRESENTATIVE\", 4].iloc[2]\n",
    "    elif file.endswith(\".html\") :\n",
    "        raw_data = pd.read_html(file)\n",
    "        voters = [df_line.iloc[5,2] for df_line in raw_data if df_line.iloc[0,1] == \"US REPRESENTATIVE\"]\n",
    "        total_registered_voters = int(str(voters[0]).split('/')[1])\n",
    "        \n",
    "    return int(total_registered_voters)"
   ]
  },
  {
   "cell_type": "code",
   "execution_count": 102,
   "metadata": {},
   "outputs": [
    {
     "data": {
      "text/plain": [
       "571851"
      ]
     },
     "execution_count": 102,
     "metadata": {},
     "output_type": "execute_result"
    }
   ],
   "source": [
    "get_total_registered_voters(\"AK\", 2018)"
   ]
  },
  {
   "cell_type": "code",
   "execution_count": 103,
   "metadata": {},
   "outputs": [
    {
     "data": {
      "image/png": "[encoded data removed]",
      "text/plain": [
       "<matplotlib.figure.Figure at 0x1fd6ba342e8>"
      ]
     },
     "metadata": {},
     "output_type": "display_data"
    }
   ],
   "source": [
    "years = [2002, 2004, 2006, 2010, 2012, 2014, 2016, 2018]\n",
    "total_registered_voters = [get_total_registered_voters(\"AK\", year) for year in years]\n",
    "#years = [2006, 2010, 2012] + years\n",
    "#total_registered_voters = [495731, 494876, 506432] + total_registered_voters\n",
    "data = pd.DataFrame(list(zip(years, total_registered_voters)))\n",
    "data.columns = [\"Year\", \"Total Registered Voters\"]\n",
    "data.plot(kind = \"line\", x = \"Year\", y = \"Total Registered Voters\")\n",
    "plt.show()"
   ]
  },
  {
   "cell_type": "code",
   "execution_count": 94,
   "metadata": {},
   "outputs": [
    {
     "data": {
      "text/plain": [
       "'C:\\\\Users\\\\madhu\\\\Documents\\\\git\\\\TEP\\\\data\\\\2018\\\\AK\\\\results.txt'"
      ]
     },
     "execution_count": 94,
     "metadata": {},
     "output_type": "execute_result"
    }
   ],
   "source": [
    "file = get_file_name(\"AK\", 2018)\n",
    "file"
   ]
  }
 ],
 "metadata": {
  "kernelspec": {
   "display_name": "Python 3",
   "language": "python",
   "name": "python3"
  },
  "language_info": {
   "codemirror_mode": {
    "name": "ipython",
    "version": 3
   },
   "file_extension": ".py",
   "mimetype": "text/x-python",
   "name": "python",
   "nbconvert_exporter": "python",
   "pygments_lexer": "ipython3",
   "version": "3.6.2"
  }
 },
 "nbformat": 4,
 "nbformat_minor": 2
}
