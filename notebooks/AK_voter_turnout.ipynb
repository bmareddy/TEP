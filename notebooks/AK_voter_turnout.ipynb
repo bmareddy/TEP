{
 "cells": [
  {
   "cell_type": "code",
   "execution_count": 2,
   "metadata": {},
   "outputs": [],
   "source": [
    "import pyodbc\n",
    "import pandas as pd"
   ]
  },
  {
   "cell_type": "code",
   "execution_count": 4,
   "metadata": {},
   "outputs": [
    {
     "data": {
      "text/plain": [
       "list"
      ]
     },
     "execution_count": 4,
     "metadata": {},
     "output_type": "execute_result"
    }
   ],
   "source": [
    "cnxn = pyodbc.connect('DRIVER={SQL Server};SERVER=dev-mercury.database.windows.net;DATABASE=TEP;UID=astronaut;PWD=USA2019!')\n",
    "cursor = cnxn.cursor()\n",
    "\n",
    "cursor.execute(\"SELECT election_year,race,registered_voters,votes FROM table_voter_turnout_summary WHERE state_wide_flag = 1\")\n",
    "data = cursor.fetchall()\n",
    "type(data)"
   ]
  },
  {
   "cell_type": "code",
   "execution_count": 10,
   "metadata": {},
   "outputs": [
    {
     "data": {
      "text/html": [
       "<div>\n",
       "<style scoped>\n",
       "    .dataframe tbody tr th:only-of-type {\n",
       "        vertical-align: middle;\n",
       "    }\n",
       "\n",
       "    .dataframe tbody tr th {\n",
       "        vertical-align: top;\n",
       "    }\n",
       "\n",
       "    .dataframe thead th {\n",
       "        text-align: right;\n",
       "    }\n",
       "</style>\n",
       "<table border=\"1\" class=\"dataframe\">\n",
       "  <thead>\n",
       "    <tr style=\"text-align: right;\">\n",
       "      <th></th>\n",
       "      <th>election_year</th>\n",
       "      <th>race</th>\n",
       "      <th>registered_voters</th>\n",
       "      <th>votes</th>\n",
       "    </tr>\n",
       "  </thead>\n",
       "  <tbody>\n",
       "    <tr>\n",
       "      <th>0</th>\n",
       "      <td>2018</td>\n",
       "      <td>Ballot Measure No. 1 - 17FSH2</td>\n",
       "      <td>571320</td>\n",
       "      <td>284891</td>\n",
       "    </tr>\n",
       "    <tr>\n",
       "      <th>1</th>\n",
       "      <td>2018</td>\n",
       "      <td>GOVERNOR/LT. GOVERNOR</td>\n",
       "      <td>571320</td>\n",
       "      <td>284891</td>\n",
       "    </tr>\n",
       "    <tr>\n",
       "      <th>2</th>\n",
       "      <td>2018</td>\n",
       "      <td>US REPRESENTATIVE</td>\n",
       "      <td>571851</td>\n",
       "      <td>285009</td>\n",
       "    </tr>\n",
       "    <tr>\n",
       "      <th>3</th>\n",
       "      <td>2016</td>\n",
       "      <td>Ballot Measure No. 1 ? 15PFVR</td>\n",
       "      <td>528166</td>\n",
       "      <td>316461</td>\n",
       "    </tr>\n",
       "    <tr>\n",
       "      <th>4</th>\n",
       "      <td>2016</td>\n",
       "      <td>Ballot Measure No. 2 - SJR2</td>\n",
       "      <td>528166</td>\n",
       "      <td>316461</td>\n",
       "    </tr>\n",
       "  </tbody>\n",
       "</table>\n",
       "</div>"
      ],
      "text/plain": [
       "   election_year                           race  registered_voters   votes\n",
       "0           2018  Ballot Measure No. 1 - 17FSH2             571320  284891\n",
       "1           2018          GOVERNOR/LT. GOVERNOR             571320  284891\n",
       "2           2018              US REPRESENTATIVE             571851  285009\n",
       "3           2016  Ballot Measure No. 1 ? 15PFVR             528166  316461\n",
       "4           2016    Ballot Measure No. 2 - SJR2             528166  316461"
      ]
     },
     "execution_count": 10,
     "metadata": {},
     "output_type": "execute_result"
    }
   ],
   "source": [
    "df_data = pd.DataFrame((tuple(row) for row in data))\n",
    "df_data.columns = [\"election_year\", \"race\", \"registered_voters\", \"votes\"]\n",
    "df_data.head()"
   ]
  },
  {
   "cell_type": "code",
   "execution_count": 23,
   "metadata": {},
   "outputs": [
    {
     "data": {
      "text/html": [
       "<div>\n",
       "<style scoped>\n",
       "    .dataframe tbody tr th:only-of-type {\n",
       "        vertical-align: middle;\n",
       "    }\n",
       "\n",
       "    .dataframe tbody tr th {\n",
       "        vertical-align: top;\n",
       "    }\n",
       "\n",
       "    .dataframe thead th {\n",
       "        text-align: right;\n",
       "    }\n",
       "</style>\n",
       "<table border=\"1\" class=\"dataframe\">\n",
       "  <thead>\n",
       "    <tr style=\"text-align: right;\">\n",
       "      <th></th>\n",
       "      <th>election_year</th>\n",
       "      <th>registered_voters</th>\n",
       "      <th>votes</th>\n",
       "      <th>turnout</th>\n",
       "      <th>presidential</th>\n",
       "    </tr>\n",
       "  </thead>\n",
       "  <tbody>\n",
       "    <tr>\n",
       "      <th>0</th>\n",
       "      <td>2000</td>\n",
       "      <td>473648</td>\n",
       "      <td>287825</td>\n",
       "      <td>0.607677</td>\n",
       "      <td>True</td>\n",
       "    </tr>\n",
       "    <tr>\n",
       "      <th>1</th>\n",
       "      <td>2002</td>\n",
       "      <td>460855</td>\n",
       "      <td>232852</td>\n",
       "      <td>0.505261</td>\n",
       "      <td>False</td>\n",
       "    </tr>\n",
       "    <tr>\n",
       "      <th>2</th>\n",
       "      <td>2004</td>\n",
       "      <td>472160</td>\n",
       "      <td>309937</td>\n",
       "      <td>0.656424</td>\n",
       "      <td>True</td>\n",
       "    </tr>\n",
       "    <tr>\n",
       "      <th>3</th>\n",
       "      <td>2006</td>\n",
       "      <td>466258</td>\n",
       "      <td>238307</td>\n",
       "      <td>0.511105</td>\n",
       "      <td>False</td>\n",
       "    </tr>\n",
       "    <tr>\n",
       "      <th>4</th>\n",
       "      <td>2008</td>\n",
       "      <td>495731</td>\n",
       "      <td>327341</td>\n",
       "      <td>0.660320</td>\n",
       "      <td>True</td>\n",
       "    </tr>\n",
       "    <tr>\n",
       "      <th>5</th>\n",
       "      <td>2010</td>\n",
       "      <td>494876</td>\n",
       "      <td>258746</td>\n",
       "      <td>0.522850</td>\n",
       "      <td>False</td>\n",
       "    </tr>\n",
       "    <tr>\n",
       "      <th>6</th>\n",
       "      <td>2012</td>\n",
       "      <td>506432</td>\n",
       "      <td>301694</td>\n",
       "      <td>0.595725</td>\n",
       "      <td>True</td>\n",
       "    </tr>\n",
       "    <tr>\n",
       "      <th>7</th>\n",
       "      <td>2014</td>\n",
       "      <td>509011</td>\n",
       "      <td>285449</td>\n",
       "      <td>0.560791</td>\n",
       "      <td>False</td>\n",
       "    </tr>\n",
       "    <tr>\n",
       "      <th>8</th>\n",
       "      <td>2016</td>\n",
       "      <td>528671</td>\n",
       "      <td>321274</td>\n",
       "      <td>0.607701</td>\n",
       "      <td>True</td>\n",
       "    </tr>\n",
       "    <tr>\n",
       "      <th>9</th>\n",
       "      <td>2018</td>\n",
       "      <td>571851</td>\n",
       "      <td>285009</td>\n",
       "      <td>0.498397</td>\n",
       "      <td>False</td>\n",
       "    </tr>\n",
       "  </tbody>\n",
       "</table>\n",
       "</div>"
      ],
      "text/plain": [
       "   election_year  registered_voters   votes   turnout  presidential\n",
       "0           2000             473648  287825  0.607677          True\n",
       "1           2002             460855  232852  0.505261         False\n",
       "2           2004             472160  309937  0.656424          True\n",
       "3           2006             466258  238307  0.511105         False\n",
       "4           2008             495731  327341  0.660320          True\n",
       "5           2010             494876  258746  0.522850         False\n",
       "6           2012             506432  301694  0.595725          True\n",
       "7           2014             509011  285449  0.560791         False\n",
       "8           2016             528671  321274  0.607701          True\n",
       "9           2018             571851  285009  0.498397         False"
      ]
     },
     "execution_count": 23,
     "metadata": {},
     "output_type": "execute_result"
    }
   ],
   "source": [
    "df_turnout_by_year = df_data.groupby(\"election_year\")[\"registered_voters\", \"votes\"].apply(max)\n",
    "df_turnout_by_year[\"turnout\"] = df_turnout_by_year[\"votes\"] / df_turnout_by_year[\"registered_voters\"]\n",
    "df_turnout_by_year.reset_index(inplace = True)\n",
    "df_turnout_by_year[\"presidential\"] = df_turnout_by_year[\"election_year\"] % 4 == 0\n",
    "df_turnout_by_year"
   ]
  },
  {
   "cell_type": "code",
   "execution_count": 25,
   "metadata": {},
   "outputs": [],
   "source": [
    "import matplotlib.pyplot as plt"
   ]
  },
  {
   "cell_type": "code",
   "execution_count": 33,
   "metadata": {},
   "outputs": [
    {
     "data": {
      "image/png": "[encoded data removed]",
      "text/plain": [
       "<Figure size 432x288 with 1 Axes>"
      ]
     },
     "metadata": {
      "needs_background": "light"
     },
     "output_type": "display_data"
    }
   ],
   "source": [
    "plt.clf()\n",
    "ax = plt.gca()\n",
    "df_turnout_by_year.plot(kind = \"line\", x = \"election_year\", y = \"registered_voters\", color = \"red\", ax = ax)\n",
    "df_turnout_by_year.query(\"presidential == True\").plot(kind = \"line\", x = \"election_year\", y = \"votes\", color = \"blue\", ax = ax)\n",
    "df_turnout_by_year.query(\"presidential == False\").plot(kind = \"line\", x = \"election_year\", y = \"votes\", color = \"green\", ax = ax)\n",
    "plt.show()"
   ]
  },
  {
   "cell_type": "code",
   "execution_count": 34,
   "metadata": {},
   "outputs": [
    {
     "data": {
      "image/png": "[encoded data removed]",
      "text/plain": [
       "<Figure size 432x288 with 1 Axes>"
      ]
     },
     "metadata": {
      "needs_background": "light"
     },
     "output_type": "display_data"
    }
   ],
   "source": [
    "plt.clf()\n",
    "ax = plt.gca()\n",
    "df_turnout_by_year.query(\"presidential == True\").plot(kind = \"line\", x = \"election_year\", y = \"turnout\", color = \"blue\", ax = ax)\n",
    "df_turnout_by_year.query(\"presidential == False\").plot(kind = \"line\", x = \"election_year\", y = \"turnout\", color = \"green\", ax = ax)\n",
    "plt.show()"
   ]
  },
  {
   "cell_type": "code",
   "execution_count": 37,
   "metadata": {},
   "outputs": [
    {
     "data": {
      "text/plain": [
       "<Figure size 432x288 with 0 Axes>"
      ]
     },
     "metadata": {},
     "output_type": "display_data"
    },
    {
     "data": {
      "image/png": "[encoded data removed]",
      "text/plain": [
       "<Figure size 432x288 with 1 Axes>"
      ]
     },
     "metadata": {
      "needs_background": "light"
     },
     "output_type": "display_data"
    },
    {
     "data": {
      "image/png": "[encoded data removed]",
      "text/plain": [
       "<Figure size 432x288 with 1 Axes>"
      ]
     },
     "metadata": {
      "needs_background": "light"
     },
     "output_type": "display_data"
    }
   ],
   "source": [
    "plt.clf()\n",
    "df_turnout_by_year.query(\"presidential == True\").plot(kind = \"bar\", x = \"election_year\", y = \"turnout\", color = \"blue\")\n",
    "df_turnout_by_year.query(\"presidential == False\").plot(kind = \"bar\", x = \"election_year\", y = \"turnout\", color = \"green\")\n",
    "plt.show()"
   ]
  },
  {
   "cell_type": "code",
   "execution_count": 38,
   "metadata": {},
   "outputs": [],
   "source": [
    "import numpy as np"
   ]
  },
  {
   "cell_type": "code",
   "execution_count": 42,
   "metadata": {},
   "outputs": [
    {
     "data": {
      "text/plain": [
       "array([3.12784629])"
      ]
     },
     "execution_count": 42,
     "metadata": {},
     "output_type": "execute_result"
    }
   ],
   "source": [
    "np.correlate(df_turnout_by_year[\"presidential\"],df_turnout_by_year[\"turnout\"])"
   ]
  }
 ],
 "metadata": {
  "kernelspec": {
   "display_name": "Python 3",
   "language": "python",
   "name": "python3"
  },
  "language_info": {
   "codemirror_mode": {
    "name": "ipython",
    "version": 3
   },
   "file_extension": ".py",
   "mimetype": "text/x-python",
   "name": "python",
   "nbconvert_exporter": "python",
   "pygments_lexer": "ipython3",
   "version": "3.6.5"
  }
 },
 "nbformat": 4,
 "nbformat_minor": 2
}
