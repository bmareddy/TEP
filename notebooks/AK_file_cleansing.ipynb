{
 "cells": [
  {
   "cell_type": "code",
   "execution_count": 94,
   "metadata": {},
   "outputs": [],
   "source": [
    "import pandas as pd\n",
    "import numpy as np\n",
    "from IPython.display import display_html"
   ]
  },
  {
   "cell_type": "code",
   "execution_count": 95,
   "metadata": {},
   "outputs": [],
   "source": [
    "def get_file_name(state, year) :\n",
    "    \"\"\" returns the filename that contains election results corresponding to a given year and state\"\"\"\n",
    "    \n",
    "    global_data_path = \"C:\\\\Users\\\\madhu\\\\Documents\\\\git\\\\TEP\\\\tep\\\\data\\\\raw\\\\\"\n",
    "    state_year_data_path = global_data_path + str(year) + \"\\\\\" + state + \"\\\\\"\n",
    "    if state == \"AK\" and year >= 2012 :\n",
    "        return state_year_data_path + \"results.txt\"\n",
    "    elif state == \"AK\" and year < 2012 :\n",
    "        return state_year_data_path + \"results.html\"\n",
    "    else :\n",
    "        raise ValueError(\"State \" + state + \" is not yet supported\")"
   ]
  },
  {
   "cell_type": "code",
   "execution_count": 90,
   "metadata": {},
   "outputs": [],
   "source": [
    "file = get_file_name(\"AK\", 2012)\n",
    "raw_data = pd.read_csv(file, header = None, encoding = \"latin1\", sep = \" \")\n",
    "raw_data = raw_data.loc[:,[5,14,17,20,22,23]] # for 2012 only"
   ]
  },
  {
   "cell_type": "code",
   "execution_count": 91,
   "metadata": {},
   "outputs": [],
   "source": [
    "raw_data.columns = [\"race\", \"data_element\", \"party_affiliation\", \"total\", \"value\", \"unknown\"]"
   ]
  },
  {
   "cell_type": "code",
   "execution_count": 93,
   "metadata": {},
   "outputs": [
    {
     "name": "stdout",
     "output_type": "stream",
     "text": [
      "C:\\Users\\madhu\\Documents\\git\\TEP\\tep\\data\\cleaned\\2012\\AK\\results.txt_cleansed\n"
     ]
    },
    {
     "data": {
      "text/html": [
       "<div>\n",
       "<style scoped>\n",
       "    .dataframe tbody tr th:only-of-type {\n",
       "        vertical-align: middle;\n",
       "    }\n",
       "\n",
       "    .dataframe tbody tr th {\n",
       "        vertical-align: top;\n",
       "    }\n",
       "\n",
       "    .dataframe thead th {\n",
       "        text-align: right;\n",
       "    }\n",
       "</style>\n",
       "<table border=\"1\" class=\"dataframe\">\n",
       "  <thead>\n",
       "    <tr style=\"text-align: right;\">\n",
       "      <th></th>\n",
       "      <th>race</th>\n",
       "      <th>data_element</th>\n",
       "      <th>party_affiliation</th>\n",
       "      <th>total</th>\n",
       "      <th>value</th>\n",
       "      <th>unknown</th>\n",
       "    </tr>\n",
       "  </thead>\n",
       "  <tbody>\n",
       "    <tr>\n",
       "      <th>0</th>\n",
       "      <td>Race Statistics</td>\n",
       "      <td>Number of Precincts</td>\n",
       "      <td>NP</td>\n",
       "      <td>Total</td>\n",
       "      <td>438.0</td>\n",
       "      <td>NaN</td>\n",
       "    </tr>\n",
       "    <tr>\n",
       "      <th>1</th>\n",
       "      <td>Race Statistics</td>\n",
       "      <td>Number of Precincts Reporting</td>\n",
       "      <td>NP</td>\n",
       "      <td>Total</td>\n",
       "      <td>438.0</td>\n",
       "      <td>NaN</td>\n",
       "    </tr>\n",
       "    <tr>\n",
       "      <th>2</th>\n",
       "      <td>US PRESIDENT</td>\n",
       "      <td>Number of Precincts for Race</td>\n",
       "      <td>NP</td>\n",
       "      <td>Total</td>\n",
       "      <td>438.0</td>\n",
       "      <td>NaN</td>\n",
       "    </tr>\n",
       "    <tr>\n",
       "      <th>3</th>\n",
       "      <td>US PRESIDENT</td>\n",
       "      <td>Number of Precincts Reporting</td>\n",
       "      <td>NP</td>\n",
       "      <td>Total</td>\n",
       "      <td>438.0</td>\n",
       "      <td>NaN</td>\n",
       "    </tr>\n",
       "    <tr>\n",
       "      <th>4</th>\n",
       "      <td>US PRESIDENT</td>\n",
       "      <td>Registered Voters</td>\n",
       "      <td>NP</td>\n",
       "      <td>Total</td>\n",
       "      <td>506432.0</td>\n",
       "      <td>NaN</td>\n",
       "    </tr>\n",
       "  </tbody>\n",
       "</table>\n",
       "</div>"
      ],
      "text/plain": [
       "              race                   data_element party_affiliation  total  \\\n",
       "0  Race Statistics            Number of Precincts                NP  Total   \n",
       "1  Race Statistics  Number of Precincts Reporting                NP  Total   \n",
       "2     US PRESIDENT   Number of Precincts for Race                NP  Total   \n",
       "3     US PRESIDENT  Number of Precincts Reporting                NP  Total   \n",
       "4     US PRESIDENT              Registered Voters                NP  Total   \n",
       "\n",
       "      value  unknown  \n",
       "0     438.0      NaN  \n",
       "1     438.0      NaN  \n",
       "2     438.0      NaN  \n",
       "3     438.0      NaN  \n",
       "4  506432.0      NaN  "
      ]
     },
     "execution_count": 93,
     "metadata": {},
     "output_type": "execute_result"
    }
   ],
   "source": [
    "typed_data = pd.DataFrame()\n",
    "for k in raw_data.columns :\n",
    "    if raw_data[k].dtype == np.object:\n",
    "        typed_data[k] = raw_data[k].apply(lambda x: str(x).strip())\n",
    "    else :\n",
    "        typed_data[k] = raw_data[k]\n",
    "dest_file = file.replace(\"raw\",\"cleaned\") + \"_cleansed\"\n",
    "typed_data.to_csv(dest_file, index = False)\n",
    "print(dest_file)\n",
    "typed_data.head()"
   ]
  },
  {
   "cell_type": "code",
   "execution_count": 76,
   "metadata": {},
   "outputs": [
    {
     "name": "stdout",
     "output_type": "stream",
     "text": [
      "<class 'pandas.core.frame.DataFrame'> MultiIndex(levels=[['value'], ['Registered Voters', 'Times Counted']],\n",
      "           codes=[[0, 0], [0, 1]],\n",
      "           names=[None, 'data_element'])\n"
     ]
    },
    {
     "data": {
      "text/html": [
       "<div>\n",
       "<style scoped>\n",
       "    .dataframe tbody tr th:only-of-type {\n",
       "        vertical-align: middle;\n",
       "    }\n",
       "\n",
       "    .dataframe tbody tr th {\n",
       "        vertical-align: top;\n",
       "    }\n",
       "\n",
       "    .dataframe thead th {\n",
       "        text-align: right;\n",
       "    }\n",
       "</style>\n",
       "<table border=\"1\" class=\"dataframe\">\n",
       "  <thead>\n",
       "    <tr style=\"text-align: right;\">\n",
       "      <th>data_element</th>\n",
       "      <th>Registered Voters</th>\n",
       "      <th>Times Counted</th>\n",
       "    </tr>\n",
       "    <tr>\n",
       "      <th>race</th>\n",
       "      <th></th>\n",
       "      <th></th>\n",
       "    </tr>\n",
       "  </thead>\n",
       "  <tbody>\n",
       "    <tr>\n",
       "      <th>Ballot Measure 2 - 13PSUM</th>\n",
       "      <td>509011.0</td>\n",
       "      <td>285449.0</td>\n",
       "    </tr>\n",
       "    <tr>\n",
       "      <th>Ballot Measure 3 - 13MINW</th>\n",
       "      <td>509011.0</td>\n",
       "      <td>285449.0</td>\n",
       "    </tr>\n",
       "    <tr>\n",
       "      <th>Ballot Measure 4 - 12BBAY</th>\n",
       "      <td>509011.0</td>\n",
       "      <td>285449.0</td>\n",
       "    </tr>\n",
       "    <tr>\n",
       "      <th>Dis Court JD1 Miller</th>\n",
       "      <td>56357.0</td>\n",
       "      <td>33700.0</td>\n",
       "    </tr>\n",
       "    <tr>\n",
       "      <th>Dis Court JD3 Chung</th>\n",
       "      <td>343509.0</td>\n",
       "      <td>194593.0</td>\n",
       "    </tr>\n",
       "  </tbody>\n",
       "</table>\n",
       "</div>"
      ],
      "text/plain": [
       "data_element               Registered Voters  Times Counted\n",
       "race                                                       \n",
       "Ballot Measure 2 - 13PSUM           509011.0       285449.0\n",
       "Ballot Measure 3 - 13MINW           509011.0       285449.0\n",
       "Ballot Measure 4 - 12BBAY           509011.0       285449.0\n",
       "Dis Court JD1 Miller                 56357.0        33700.0\n",
       "Dis Court JD3 Chung                 343509.0       194593.0"
      ]
     },
     "execution_count": 76,
     "metadata": {},
     "output_type": "execute_result"
    }
   ],
   "source": [
    "typed_data = typed_data.query(\"data_element in ['Registered Voters','Times Counted']\")\n",
    "typed_data = typed_data[[\"race\",\"data_element\",\"value\"]]\n",
    "output = pd.pivot_table(typed_data, index = [\"race\"], values = [\"value\"], columns = [\"data_element\"])\n",
    "print(type(output), output.columns)\n",
    "output.columns = output.columns.droplevel(0)\n",
    "output.head()"
   ]
  },
  {
   "cell_type": "markdown",
   "metadata": {},
   "source": [
    "# Processing HTML files"
   ]
  },
  {
   "cell_type": "code",
   "execution_count": 148,
   "metadata": {},
   "outputs": [
    {
     "data": {
      "text/plain": [
       "178"
      ]
     },
     "execution_count": 148,
     "metadata": {},
     "output_type": "execute_result"
    }
   ],
   "source": [
    "year = 2000\n",
    "file = get_file_name(\"AK\", year)\n",
    "with open(file) as fh:\n",
    "    data = fh.read()\n",
    "#display_html(data, raw = True)\n",
    "raw_data = pd.read_html(data)\n",
    "len(raw_data)"
   ]
  },
  {
   "cell_type": "code",
   "execution_count": 150,
   "metadata": {},
   "outputs": [
    {
     "data": {
      "text/plain": [
       "array(['U.S. PRESIDENT/VICE PRESIDENT', 'U.S. REPRESENTATIVE',\n",
       "       'SENATE DISTRICT A', 'SENATE DISTRICT C', 'SENATE DISTRICT E',\n",
       "       'SENATE DISTRICT G', 'SENATE DISTRICT I', 'SENATE DISTRICT K',\n",
       "       'SENATE DISTRICT M', 'SENATE DISTRICT O', 'SENATE DISTRICT Q',\n",
       "       'SENATE DISTRICT S', 'HOUSE DISTRICT 1', 'HOUSE DISTRICT 2',\n",
       "       'HOUSE DISTRICT 3', 'HOUSE DISTRICT 4', 'HOUSE DISTRICT 5',\n",
       "       'HOUSE DISTRICT 6', 'HOUSE DISTRICT 7', 'HOUSE DISTRICT 8',\n",
       "       'HOUSE DISTRICT 9', 'HOUSE DISTRICT 10', 'HOUSE DISTRICT 11',\n",
       "       'HOUSE DISTRICT 12', 'HOUSE DISTRICT 13', 'HOUSE DISTRICT 14',\n",
       "       'HOUSE DISTRICT 15', 'HOUSE DISTRICT 16', 'HOUSE DISTRICT 17',\n",
       "       'HOUSE DISTRICT 18', 'HOUSE DISTRICT 19', 'HOUSE DISTRICT 20',\n",
       "       'HOUSE DISTRICT 21', 'HOUSE DISTRICT 22', 'HOUSE DISTRICT 23',\n",
       "       'HOUSE DISTRICT 24', 'HOUSE DISTRICT 25', 'HOUSE DISTRICT 26',\n",
       "       'HOUSE DISTRICT 27', 'HOUSE DISTRICT 28', 'HOUSE DISTRICT 29',\n",
       "       'HOUSE DISTRICT 30', 'HOUSE DISTRICT 31', 'HOUSE DISTRICT 32',\n",
       "       'HOUSE DISTRICT 33', 'HOUSE DISTRICT 34', 'HOUSE DISTRICT 35',\n",
       "       'HOUSE DISTRICT 36', 'HOUSE DISTRICT 37', 'HOUSE DISTRICT 38',\n",
       "       'HOUSE DISTRICT 39', 'HOUSE DISTRICT 40',\n",
       "       'Const. Am. Wildlife Initiatives', 'Const. Am. - Constitution',\n",
       "       'Const. Am. - Corporations', 'Initiative - Property Tax',\n",
       "       'Initiative - Use of Hemp', 'Referendum - Management of Game',\n",
       "       'SUPREME-BRYNER', 'SUPREME-FABE', 'SUPREME-MATTHEWS',\n",
       "       'APPEALS-COATS', 'APPEALS-STEWART', 'JD1 SUPERIOR-WEEKS',\n",
       "       'JD1 SUPERIOR-ZERVOS', 'JD2 SUPERIOR-ERLICH', 'JD2 SUPERIOR-ESCH',\n",
       "       'JD3 SUPERIOR-ANDREWS', 'JD3 SUPERIOR-BROWN',\n",
       "       'JD3 SUPERIOR-GONZALEZ', 'JD3 SUPERIOR-HENSLEY',\n",
       "       'JD3 SUPERIOR-HOPWOOD', 'JD3 SUPERIOR-LINK',\n",
       "       'JD3 SUPERIOR-MICHALSKI', 'JD3 SUPERIOR-SANDERS',\n",
       "       'JD3 SUPERIOR-SMITH', 'JD3 SUPERIOR - TAN', 'JD3 SUPERIOR-TORRISI',\n",
       "       'JD3 SUPERIOR-WOLVERTON', 'JD3 DISTRICT-ASHMAN',\n",
       "       'JD3 DISTRICT-BOLGER', 'JD3 DISTRICT-FINN',\n",
       "       'JD3 DISTRICT-LOMBARDI', 'JD3 DISTRICT-WANAMAKER',\n",
       "       'JD4 SUPERIOR-CURDA', 'JD4 SUPERIOR-GREENE', 'JD4 DISTRICT-FUNK',\n",
       "       'JD4 DISTRICT-WOOD'], dtype=object)"
      ]
     },
     "execution_count": 150,
     "metadata": {},
     "output_type": "execute_result"
    }
   ],
   "source": [
    "typed_data = pd.DataFrame()\n",
    "for i in range(3,len(raw_data)):\n",
    "    if i % 2 == 1:\n",
    "        df = raw_data[i].loc[2:,:]\n",
    "        race = raw_data[i].loc[0,0]\n",
    "        df.insert(loc = 0, column = \"race\", value = race)\n",
    "        typed_data = typed_data.append(df, ignore_index = True)\n",
    "typed_data[\"race\"].unique()"
   ]
  },
  {
   "cell_type": "code",
   "execution_count": 151,
   "metadata": {},
   "outputs": [
    {
     "data": {
      "text/html": [
       "<div>\n",
       "<style scoped>\n",
       "    .dataframe tbody tr th:only-of-type {\n",
       "        vertical-align: middle;\n",
       "    }\n",
       "\n",
       "    .dataframe tbody tr th {\n",
       "        vertical-align: top;\n",
       "    }\n",
       "\n",
       "    .dataframe thead th {\n",
       "        text-align: right;\n",
       "    }\n",
       "</style>\n",
       "<table border=\"1\" class=\"dataframe\">\n",
       "  <thead>\n",
       "    <tr style=\"text-align: right;\">\n",
       "      <th></th>\n",
       "      <th>race</th>\n",
       "      <th>data_element</th>\n",
       "      <th>party_affiliation</th>\n",
       "      <th>value</th>\n",
       "      <th>unknown</th>\n",
       "    </tr>\n",
       "  </thead>\n",
       "  <tbody>\n",
       "    <tr>\n",
       "      <th>0</th>\n",
       "      <td>U.S. PRESIDENT/VICE PRESIDENT</td>\n",
       "      <td>Precincts Reporting</td>\n",
       "      <td>NaN</td>\n",
       "      <td>451/451</td>\n",
       "      <td>100.00%</td>\n",
       "    </tr>\n",
       "    <tr>\n",
       "      <th>1</th>\n",
       "      <td>U.S. PRESIDENT/VICE PRESIDENT</td>\n",
       "      <td>Ballots Cast/Reg. Voters</td>\n",
       "      <td>NaN</td>\n",
       "      <td>287825/473648</td>\n",
       "      <td>60.77%</td>\n",
       "    </tr>\n",
       "    <tr>\n",
       "      <th>2</th>\n",
       "      <td>U.S. PRESIDENT/VICE PRESIDENT</td>\n",
       "      <td>Total Votes</td>\n",
       "      <td>NaN</td>\n",
       "      <td>285560</td>\n",
       "      <td>NaN</td>\n",
       "    </tr>\n",
       "    <tr>\n",
       "      <th>3</th>\n",
       "      <td>U.S. PRESIDENT/VICE PRESIDENT</td>\n",
       "      <td>NaN</td>\n",
       "      <td>NaN</td>\n",
       "      <td>NaN</td>\n",
       "      <td>NaN</td>\n",
       "    </tr>\n",
       "    <tr>\n",
       "      <th>4</th>\n",
       "      <td>U.S. PRESIDENT/VICE PRESIDENT</td>\n",
       "      <td>NADER/LaDUKE</td>\n",
       "      <td>GRN</td>\n",
       "      <td>28747</td>\n",
       "      <td>10.07%</td>\n",
       "    </tr>\n",
       "  </tbody>\n",
       "</table>\n",
       "</div>"
      ],
      "text/plain": [
       "                            race              data_element party_affiliation  \\\n",
       "0  U.S. PRESIDENT/VICE PRESIDENT       Precincts Reporting               NaN   \n",
       "1  U.S. PRESIDENT/VICE PRESIDENT  Ballots Cast/Reg. Voters               NaN   \n",
       "2  U.S. PRESIDENT/VICE PRESIDENT               Total Votes               NaN   \n",
       "3  U.S. PRESIDENT/VICE PRESIDENT                       NaN               NaN   \n",
       "4  U.S. PRESIDENT/VICE PRESIDENT              NADER/LaDUKE               GRN   \n",
       "\n",
       "           value  unknown  \n",
       "0        451/451  100.00%  \n",
       "1  287825/473648   60.77%  \n",
       "2         285560      NaN  \n",
       "3            NaN      NaN  \n",
       "4          28747   10.07%  "
      ]
     },
     "execution_count": 151,
     "metadata": {},
     "output_type": "execute_result"
    }
   ],
   "source": [
    "typed_data.columns = [\"race\", \"data_element\", \"party_affiliation\", \"value\", \"unknown\"]\n",
    "dest_file = file.replace(\"raw\",\"cleaned\") + \"_cleansed\"\n",
    "typed_data.to_csv(dest_file, index = False)\n",
    "typed_data.head()"
   ]
  },
  {
   "cell_type": "code",
   "execution_count": 152,
   "metadata": {},
   "outputs": [],
   "source": [
    "typed_data.insert(loc = 0, column = \"election_year\", value = year)\n",
    "all_data = all_data.append(typed_data, ignore_index = True) #one time creation of all_data = pd.DataFrame()"
   ]
  },
  {
   "cell_type": "code",
   "execution_count": 154,
   "metadata": {},
   "outputs": [
    {
     "data": {
      "text/html": [
       "<div>\n",
       "<style scoped>\n",
       "    .dataframe tbody tr th:only-of-type {\n",
       "        vertical-align: middle;\n",
       "    }\n",
       "\n",
       "    .dataframe tbody tr th {\n",
       "        vertical-align: top;\n",
       "    }\n",
       "\n",
       "    .dataframe thead th {\n",
       "        text-align: right;\n",
       "    }\n",
       "</style>\n",
       "<table border=\"1\" class=\"dataframe\">\n",
       "  <thead>\n",
       "    <tr style=\"text-align: right;\">\n",
       "      <th></th>\n",
       "      <th>state</th>\n",
       "      <th>election_year</th>\n",
       "      <th>race</th>\n",
       "      <th>data_element</th>\n",
       "      <th>party_affiliation</th>\n",
       "      <th>value</th>\n",
       "      <th>unknown</th>\n",
       "    </tr>\n",
       "  </thead>\n",
       "  <tbody>\n",
       "    <tr>\n",
       "      <th>0</th>\n",
       "      <td>AK</td>\n",
       "      <td>2010</td>\n",
       "      <td>US REPRESENTATIVE</td>\n",
       "      <td>Number of Precincts</td>\n",
       "      <td>NaN</td>\n",
       "      <td>438</td>\n",
       "      <td>NaN</td>\n",
       "    </tr>\n",
       "    <tr>\n",
       "      <th>1</th>\n",
       "      <td>AK</td>\n",
       "      <td>2010</td>\n",
       "      <td>US REPRESENTATIVE</td>\n",
       "      <td>Precincts Reporting</td>\n",
       "      <td>NaN</td>\n",
       "      <td>438</td>\n",
       "      <td>100.0 %</td>\n",
       "    </tr>\n",
       "    <tr>\n",
       "      <th>2</th>\n",
       "      <td>AK</td>\n",
       "      <td>2010</td>\n",
       "      <td>US REPRESENTATIVE</td>\n",
       "      <td>Times Counted</td>\n",
       "      <td>NaN</td>\n",
       "      <td>258746/494876</td>\n",
       "      <td>52.3 %</td>\n",
       "    </tr>\n",
       "    <tr>\n",
       "      <th>3</th>\n",
       "      <td>AK</td>\n",
       "      <td>2010</td>\n",
       "      <td>US REPRESENTATIVE</td>\n",
       "      <td>Total Votes</td>\n",
       "      <td>NaN</td>\n",
       "      <td>254335</td>\n",
       "      <td>NaN</td>\n",
       "    </tr>\n",
       "    <tr>\n",
       "      <th>4</th>\n",
       "      <td>AK</td>\n",
       "      <td>2010</td>\n",
       "      <td>US REPRESENTATIVE</td>\n",
       "      <td>NaN</td>\n",
       "      <td>NaN</td>\n",
       "      <td>NaN</td>\n",
       "      <td>NaN</td>\n",
       "    </tr>\n",
       "  </tbody>\n",
       "</table>\n",
       "</div>"
      ],
      "text/plain": [
       "  state  election_year               race         data_element  \\\n",
       "0    AK           2010  US REPRESENTATIVE  Number of Precincts   \n",
       "1    AK           2010  US REPRESENTATIVE  Precincts Reporting   \n",
       "2    AK           2010  US REPRESENTATIVE        Times Counted   \n",
       "3    AK           2010  US REPRESENTATIVE          Total Votes   \n",
       "4    AK           2010  US REPRESENTATIVE                  NaN   \n",
       "\n",
       "  party_affiliation          value  unknown  \n",
       "0               NaN            438      NaN  \n",
       "1               NaN            438  100.0 %  \n",
       "2               NaN  258746/494876   52.3 %  \n",
       "3               NaN         254335      NaN  \n",
       "4               NaN            NaN      NaN  "
      ]
     },
     "execution_count": 154,
     "metadata": {},
     "output_type": "execute_result"
    }
   ],
   "source": [
    "all_data.insert(loc = 0, column = \"state\", value = \"AK\")\n",
    "all_data.to_csv(dest_file + \"_all\", index = False)\n",
    "all_data.head()"
   ]
  },
  {
   "cell_type": "code",
   "execution_count": null,
   "metadata": {},
   "outputs": [],
   "source": []
  }
 ],
 "metadata": {
  "kernelspec": {
   "display_name": "Python 3",
   "language": "python",
   "name": "python3"
  },
  "language_info": {
   "codemirror_mode": {
    "name": "ipython",
    "version": 3
   },
   "file_extension": ".py",
   "mimetype": "text/x-python",
   "name": "python",
   "nbconvert_exporter": "python",
   "pygments_lexer": "ipython3",
   "version": "3.6.5"
  }
 },
 "nbformat": 4,
 "nbformat_minor": 2
}
